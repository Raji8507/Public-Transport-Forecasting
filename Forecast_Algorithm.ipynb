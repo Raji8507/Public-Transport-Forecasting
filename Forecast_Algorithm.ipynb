# 1. Import Libraries
import pandas as pd
from prophet import Prophet
import matplotlib.pyplot as plt

# 2. Load Data
url = 'https://www.data.act.gov.au/api/views/nkxy-abdj/rows.csv?accessType=DOWNLOAD'
df = pd.read_csv(url)
df['Date'] = pd.to_datetime(df['Date'])

# 3. Define Categories
categories = ['Local Route', 'Light Rail', 'Peak Service', 'Rapid Route', 'School']

# 4. Forecasting Function
for category in categories:
    print(f"Processing {category}...")
    data = df[['Date', category]].rename(columns={'Date': 'ds', category: 'y'})
    model = Prophet(seasonality_mode='multiplicative', changepoint_prior_scale=0.05)
    model.add_seasonality(name='weekly', period=7, fourier_order=3)
    model.fit(data)
    future = model.make_future_dataframe(periods=7)
    forecast = model.predict(future)
    
    # Plot
    fig = model.plot(forecast)
    plt.title(f'Forecast for {category}')
    plt.show()

print("Forecasting Completed!")
